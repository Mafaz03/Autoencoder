{
  "nbformat": 4,
  "nbformat_minor": 0,
  "metadata": {
    "colab": {
      "provenance": [],
      "gpuType": "T4",
      "authorship_tag": "ABX9TyOQoi0fD9lf29r8N5dFObbL",
      "include_colab_link": true
    },
    "kernelspec": {
      "name": "python3",
      "display_name": "Python 3"
    },
    "language_info": {
      "name": "python"
    },
    "accelerator": "GPU",
    "widgets": {
      "application/vnd.jupyter.widget-state+json": {
        "c2c896f648da482988bb4bfb28473c74": {
          "model_module": "@jupyter-widgets/controls",
          "model_name": "HBoxModel",
          "model_module_version": "1.5.0",
          "state": {
            "_dom_classes": [],
            "_model_module": "@jupyter-widgets/controls",
            "_model_module_version": "1.5.0",
            "_model_name": "HBoxModel",
            "_view_count": null,
            "_view_module": "@jupyter-widgets/controls",
            "_view_module_version": "1.5.0",
            "_view_name": "HBoxView",
            "box_style": "",
            "children": [
              "IPY_MODEL_46b5af4aa3da4b57a327195a22571634",
              "IPY_MODEL_aca13abeb3024e9e9d224396fab90ed6",
              "IPY_MODEL_606646912c9a499da7705820653588b2"
            ],
            "layout": "IPY_MODEL_14010ed06cd34103bce94d7351db230d"
          }
        },
        "46b5af4aa3da4b57a327195a22571634": {
          "model_module": "@jupyter-widgets/controls",
          "model_name": "HTMLModel",
          "model_module_version": "1.5.0",
          "state": {
            "_dom_classes": [],
            "_model_module": "@jupyter-widgets/controls",
            "_model_module_version": "1.5.0",
            "_model_name": "HTMLModel",
            "_view_count": null,
            "_view_module": "@jupyter-widgets/controls",
            "_view_module_version": "1.5.0",
            "_view_name": "HTMLView",
            "description": "",
            "description_tooltip": null,
            "layout": "IPY_MODEL_be8aecf4b85f46e5ad7f96e2d7b37ce6",
            "placeholder": "​",
            "style": "IPY_MODEL_c02cb410e9254524bf8dc83c8252fa9a",
            "value": "Downloading data: 100%"
          }
        },
        "aca13abeb3024e9e9d224396fab90ed6": {
          "model_module": "@jupyter-widgets/controls",
          "model_name": "FloatProgressModel",
          "model_module_version": "1.5.0",
          "state": {
            "_dom_classes": [],
            "_model_module": "@jupyter-widgets/controls",
            "_model_module_version": "1.5.0",
            "_model_name": "FloatProgressModel",
            "_view_count": null,
            "_view_module": "@jupyter-widgets/controls",
            "_view_module_version": "1.5.0",
            "_view_name": "ProgressView",
            "bar_style": "success",
            "description": "",
            "description_tooltip": null,
            "layout": "IPY_MODEL_bc73f680eb6849388ffd0d23170a3feb",
            "max": 30931277,
            "min": 0,
            "orientation": "horizontal",
            "style": "IPY_MODEL_8fa3f07dea154531b100859846db3c32",
            "value": 30931277
          }
        },
        "606646912c9a499da7705820653588b2": {
          "model_module": "@jupyter-widgets/controls",
          "model_name": "HTMLModel",
          "model_module_version": "1.5.0",
          "state": {
            "_dom_classes": [],
            "_model_module": "@jupyter-widgets/controls",
            "_model_module_version": "1.5.0",
            "_model_name": "HTMLModel",
            "_view_count": null,
            "_view_module": "@jupyter-widgets/controls",
            "_view_module_version": "1.5.0",
            "_view_name": "HTMLView",
            "description": "",
            "description_tooltip": null,
            "layout": "IPY_MODEL_22fa854c056f4612bcd923834e9b9cc1",
            "placeholder": "​",
            "style": "IPY_MODEL_eab87753f3a54607be2d08a29933b228",
            "value": " 30.9M/30.9M [00:01&lt;00:00, 22.2MB/s]"
          }
        },
        "14010ed06cd34103bce94d7351db230d": {
          "model_module": "@jupyter-widgets/base",
          "model_name": "LayoutModel",
          "model_module_version": "1.2.0",
          "state": {
            "_model_module": "@jupyter-widgets/base",
            "_model_module_version": "1.2.0",
            "_model_name": "LayoutModel",
            "_view_count": null,
            "_view_module": "@jupyter-widgets/base",
            "_view_module_version": "1.2.0",
            "_view_name": "LayoutView",
            "align_content": null,
            "align_items": null,
            "align_self": null,
            "border": null,
            "bottom": null,
            "display": null,
            "flex": null,
            "flex_flow": null,
            "grid_area": null,
            "grid_auto_columns": null,
            "grid_auto_flow": null,
            "grid_auto_rows": null,
            "grid_column": null,
            "grid_gap": null,
            "grid_row": null,
            "grid_template_areas": null,
            "grid_template_columns": null,
            "grid_template_rows": null,
            "height": null,
            "justify_content": null,
            "justify_items": null,
            "left": null,
            "margin": null,
            "max_height": null,
            "max_width": null,
            "min_height": null,
            "min_width": null,
            "object_fit": null,
            "object_position": null,
            "order": null,
            "overflow": null,
            "overflow_x": null,
            "overflow_y": null,
            "padding": null,
            "right": null,
            "top": null,
            "visibility": null,
            "width": null
          }
        },
        "be8aecf4b85f46e5ad7f96e2d7b37ce6": {
          "model_module": "@jupyter-widgets/base",
          "model_name": "LayoutModel",
          "model_module_version": "1.2.0",
          "state": {
            "_model_module": "@jupyter-widgets/base",
            "_model_module_version": "1.2.0",
            "_model_name": "LayoutModel",
            "_view_count": null,
            "_view_module": "@jupyter-widgets/base",
            "_view_module_version": "1.2.0",
            "_view_name": "LayoutView",
            "align_content": null,
            "align_items": null,
            "align_self": null,
            "border": null,
            "bottom": null,
            "display": null,
            "flex": null,
            "flex_flow": null,
            "grid_area": null,
            "grid_auto_columns": null,
            "grid_auto_flow": null,
            "grid_auto_rows": null,
            "grid_column": null,
            "grid_gap": null,
            "grid_row": null,
            "grid_template_areas": null,
            "grid_template_columns": null,
            "grid_template_rows": null,
            "height": null,
            "justify_content": null,
            "justify_items": null,
            "left": null,
            "margin": null,
            "max_height": null,
            "max_width": null,
            "min_height": null,
            "min_width": null,
            "object_fit": null,
            "object_position": null,
            "order": null,
            "overflow": null,
            "overflow_x": null,
            "overflow_y": null,
            "padding": null,
            "right": null,
            "top": null,
            "visibility": null,
            "width": null
          }
        },
        "c02cb410e9254524bf8dc83c8252fa9a": {
          "model_module": "@jupyter-widgets/controls",
          "model_name": "DescriptionStyleModel",
          "model_module_version": "1.5.0",
          "state": {
            "_model_module": "@jupyter-widgets/controls",
            "_model_module_version": "1.5.0",
            "_model_name": "DescriptionStyleModel",
            "_view_count": null,
            "_view_module": "@jupyter-widgets/base",
            "_view_module_version": "1.2.0",
            "_view_name": "StyleView",
            "description_width": ""
          }
        },
        "bc73f680eb6849388ffd0d23170a3feb": {
          "model_module": "@jupyter-widgets/base",
          "model_name": "LayoutModel",
          "model_module_version": "1.2.0",
          "state": {
            "_model_module": "@jupyter-widgets/base",
            "_model_module_version": "1.2.0",
            "_model_name": "LayoutModel",
            "_view_count": null,
            "_view_module": "@jupyter-widgets/base",
            "_view_module_version": "1.2.0",
            "_view_name": "LayoutView",
            "align_content": null,
            "align_items": null,
            "align_self": null,
            "border": null,
            "bottom": null,
            "display": null,
            "flex": null,
            "flex_flow": null,
            "grid_area": null,
            "grid_auto_columns": null,
            "grid_auto_flow": null,
            "grid_auto_rows": null,
            "grid_column": null,
            "grid_gap": null,
            "grid_row": null,
            "grid_template_areas": null,
            "grid_template_columns": null,
            "grid_template_rows": null,
            "height": null,
            "justify_content": null,
            "justify_items": null,
            "left": null,
            "margin": null,
            "max_height": null,
            "max_width": null,
            "min_height": null,
            "min_width": null,
            "object_fit": null,
            "object_position": null,
            "order": null,
            "overflow": null,
            "overflow_x": null,
            "overflow_y": null,
            "padding": null,
            "right": null,
            "top": null,
            "visibility": null,
            "width": null
          }
        },
        "8fa3f07dea154531b100859846db3c32": {
          "model_module": "@jupyter-widgets/controls",
          "model_name": "ProgressStyleModel",
          "model_module_version": "1.5.0",
          "state": {
            "_model_module": "@jupyter-widgets/controls",
            "_model_module_version": "1.5.0",
            "_model_name": "ProgressStyleModel",
            "_view_count": null,
            "_view_module": "@jupyter-widgets/base",
            "_view_module_version": "1.2.0",
            "_view_name": "StyleView",
            "bar_color": null,
            "description_width": ""
          }
        },
        "22fa854c056f4612bcd923834e9b9cc1": {
          "model_module": "@jupyter-widgets/base",
          "model_name": "LayoutModel",
          "model_module_version": "1.2.0",
          "state": {
            "_model_module": "@jupyter-widgets/base",
            "_model_module_version": "1.2.0",
            "_model_name": "LayoutModel",
            "_view_count": null,
            "_view_module": "@jupyter-widgets/base",
            "_view_module_version": "1.2.0",
            "_view_name": "LayoutView",
            "align_content": null,
            "align_items": null,
            "align_self": null,
            "border": null,
            "bottom": null,
            "display": null,
            "flex": null,
            "flex_flow": null,
            "grid_area": null,
            "grid_auto_columns": null,
            "grid_auto_flow": null,
            "grid_auto_rows": null,
            "grid_column": null,
            "grid_gap": null,
            "grid_row": null,
            "grid_template_areas": null,
            "grid_template_columns": null,
            "grid_template_rows": null,
            "height": null,
            "justify_content": null,
            "justify_items": null,
            "left": null,
            "margin": null,
            "max_height": null,
            "max_width": null,
            "min_height": null,
            "min_width": null,
            "object_fit": null,
            "object_position": null,
            "order": null,
            "overflow": null,
            "overflow_x": null,
            "overflow_y": null,
            "padding": null,
            "right": null,
            "top": null,
            "visibility": null,
            "width": null
          }
        },
        "eab87753f3a54607be2d08a29933b228": {
          "model_module": "@jupyter-widgets/controls",
          "model_name": "DescriptionStyleModel",
          "model_module_version": "1.5.0",
          "state": {
            "_model_module": "@jupyter-widgets/controls",
            "_model_module_version": "1.5.0",
            "_model_name": "DescriptionStyleModel",
            "_view_count": null,
            "_view_module": "@jupyter-widgets/base",
            "_view_module_version": "1.2.0",
            "_view_name": "StyleView",
            "description_width": ""
          }
        },
        "ace63fe673df44ef854fd3c64978409f": {
          "model_module": "@jupyter-widgets/controls",
          "model_name": "HBoxModel",
          "model_module_version": "1.5.0",
          "state": {
            "_dom_classes": [],
            "_model_module": "@jupyter-widgets/controls",
            "_model_module_version": "1.5.0",
            "_model_name": "HBoxModel",
            "_view_count": null,
            "_view_module": "@jupyter-widgets/controls",
            "_view_module_version": "1.5.0",
            "_view_name": "HBoxView",
            "box_style": "",
            "children": [
              "IPY_MODEL_0943af6174194cabb90d04cb7e574901",
              "IPY_MODEL_c31a0d64c3f14a53a54bb05304500bcb",
              "IPY_MODEL_afa4918856044ef99f94766aa4cd67e5"
            ],
            "layout": "IPY_MODEL_b0fe6e70ea014cb38ece57dcf11d23f2"
          }
        },
        "0943af6174194cabb90d04cb7e574901": {
          "model_module": "@jupyter-widgets/controls",
          "model_name": "HTMLModel",
          "model_module_version": "1.5.0",
          "state": {
            "_dom_classes": [],
            "_model_module": "@jupyter-widgets/controls",
            "_model_module_version": "1.5.0",
            "_model_name": "HTMLModel",
            "_view_count": null,
            "_view_module": "@jupyter-widgets/controls",
            "_view_module_version": "1.5.0",
            "_view_name": "HTMLView",
            "description": "",
            "description_tooltip": null,
            "layout": "IPY_MODEL_cbfa839ae6624366a8748f869a8ac0c4",
            "placeholder": "​",
            "style": "IPY_MODEL_04077695110846bd9654afcd25b514f7",
            "value": "Downloading data: 100%"
          }
        },
        "c31a0d64c3f14a53a54bb05304500bcb": {
          "model_module": "@jupyter-widgets/controls",
          "model_name": "FloatProgressModel",
          "model_module_version": "1.5.0",
          "state": {
            "_dom_classes": [],
            "_model_module": "@jupyter-widgets/controls",
            "_model_module_version": "1.5.0",
            "_model_name": "FloatProgressModel",
            "_view_count": null,
            "_view_module": "@jupyter-widgets/controls",
            "_view_module_version": "1.5.0",
            "_view_name": "ProgressView",
            "bar_style": "success",
            "description": "",
            "description_tooltip": null,
            "layout": "IPY_MODEL_778fbb4f75384a50af39406738aad4b9",
            "max": 5175617,
            "min": 0,
            "orientation": "horizontal",
            "style": "IPY_MODEL_1259225808064fc78fe7d244adf5051f",
            "value": 5175617
          }
        },
        "afa4918856044ef99f94766aa4cd67e5": {
          "model_module": "@jupyter-widgets/controls",
          "model_name": "HTMLModel",
          "model_module_version": "1.5.0",
          "state": {
            "_dom_classes": [],
            "_model_module": "@jupyter-widgets/controls",
            "_model_module_version": "1.5.0",
            "_model_name": "HTMLModel",
            "_view_count": null,
            "_view_module": "@jupyter-widgets/controls",
            "_view_module_version": "1.5.0",
            "_view_name": "HTMLView",
            "description": "",
            "description_tooltip": null,
            "layout": "IPY_MODEL_6759f188ab7145199e7f3a0ed6ea8718",
            "placeholder": "​",
            "style": "IPY_MODEL_ab0d6801d3964adba185a4c257b19c13",
            "value": " 5.18M/5.18M [00:01&lt;00:00, 2.70MB/s]"
          }
        },
        "b0fe6e70ea014cb38ece57dcf11d23f2": {
          "model_module": "@jupyter-widgets/base",
          "model_name": "LayoutModel",
          "model_module_version": "1.2.0",
          "state": {
            "_model_module": "@jupyter-widgets/base",
            "_model_module_version": "1.2.0",
            "_model_name": "LayoutModel",
            "_view_count": null,
            "_view_module": "@jupyter-widgets/base",
            "_view_module_version": "1.2.0",
            "_view_name": "LayoutView",
            "align_content": null,
            "align_items": null,
            "align_self": null,
            "border": null,
            "bottom": null,
            "display": null,
            "flex": null,
            "flex_flow": null,
            "grid_area": null,
            "grid_auto_columns": null,
            "grid_auto_flow": null,
            "grid_auto_rows": null,
            "grid_column": null,
            "grid_gap": null,
            "grid_row": null,
            "grid_template_areas": null,
            "grid_template_columns": null,
            "grid_template_rows": null,
            "height": null,
            "justify_content": null,
            "justify_items": null,
            "left": null,
            "margin": null,
            "max_height": null,
            "max_width": null,
            "min_height": null,
            "min_width": null,
            "object_fit": null,
            "object_position": null,
            "order": null,
            "overflow": null,
            "overflow_x": null,
            "overflow_y": null,
            "padding": null,
            "right": null,
            "top": null,
            "visibility": null,
            "width": null
          }
        },
        "cbfa839ae6624366a8748f869a8ac0c4": {
          "model_module": "@jupyter-widgets/base",
          "model_name": "LayoutModel",
          "model_module_version": "1.2.0",
          "state": {
            "_model_module": "@jupyter-widgets/base",
            "_model_module_version": "1.2.0",
            "_model_name": "LayoutModel",
            "_view_count": null,
            "_view_module": "@jupyter-widgets/base",
            "_view_module_version": "1.2.0",
            "_view_name": "LayoutView",
            "align_content": null,
            "align_items": null,
            "align_self": null,
            "border": null,
            "bottom": null,
            "display": null,
            "flex": null,
            "flex_flow": null,
            "grid_area": null,
            "grid_auto_columns": null,
            "grid_auto_flow": null,
            "grid_auto_rows": null,
            "grid_column": null,
            "grid_gap": null,
            "grid_row": null,
            "grid_template_areas": null,
            "grid_template_columns": null,
            "grid_template_rows": null,
            "height": null,
            "justify_content": null,
            "justify_items": null,
            "left": null,
            "margin": null,
            "max_height": null,
            "max_width": null,
            "min_height": null,
            "min_width": null,
            "object_fit": null,
            "object_position": null,
            "order": null,
            "overflow": null,
            "overflow_x": null,
            "overflow_y": null,
            "padding": null,
            "right": null,
            "top": null,
            "visibility": null,
            "width": null
          }
        },
        "04077695110846bd9654afcd25b514f7": {
          "model_module": "@jupyter-widgets/controls",
          "model_name": "DescriptionStyleModel",
          "model_module_version": "1.5.0",
          "state": {
            "_model_module": "@jupyter-widgets/controls",
            "_model_module_version": "1.5.0",
            "_model_name": "DescriptionStyleModel",
            "_view_count": null,
            "_view_module": "@jupyter-widgets/base",
            "_view_module_version": "1.2.0",
            "_view_name": "StyleView",
            "description_width": ""
          }
        },
        "778fbb4f75384a50af39406738aad4b9": {
          "model_module": "@jupyter-widgets/base",
          "model_name": "LayoutModel",
          "model_module_version": "1.2.0",
          "state": {
            "_model_module": "@jupyter-widgets/base",
            "_model_module_version": "1.2.0",
            "_model_name": "LayoutModel",
            "_view_count": null,
            "_view_module": "@jupyter-widgets/base",
            "_view_module_version": "1.2.0",
            "_view_name": "LayoutView",
            "align_content": null,
            "align_items": null,
            "align_self": null,
            "border": null,
            "bottom": null,
            "display": null,
            "flex": null,
            "flex_flow": null,
            "grid_area": null,
            "grid_auto_columns": null,
            "grid_auto_flow": null,
            "grid_auto_rows": null,
            "grid_column": null,
            "grid_gap": null,
            "grid_row": null,
            "grid_template_areas": null,
            "grid_template_columns": null,
            "grid_template_rows": null,
            "height": null,
            "justify_content": null,
            "justify_items": null,
            "left": null,
            "margin": null,
            "max_height": null,
            "max_width": null,
            "min_height": null,
            "min_width": null,
            "object_fit": null,
            "object_position": null,
            "order": null,
            "overflow": null,
            "overflow_x": null,
            "overflow_y": null,
            "padding": null,
            "right": null,
            "top": null,
            "visibility": null,
            "width": null
          }
        },
        "1259225808064fc78fe7d244adf5051f": {
          "model_module": "@jupyter-widgets/controls",
          "model_name": "ProgressStyleModel",
          "model_module_version": "1.5.0",
          "state": {
            "_model_module": "@jupyter-widgets/controls",
            "_model_module_version": "1.5.0",
            "_model_name": "ProgressStyleModel",
            "_view_count": null,
            "_view_module": "@jupyter-widgets/base",
            "_view_module_version": "1.2.0",
            "_view_name": "StyleView",
            "bar_color": null,
            "description_width": ""
          }
        },
        "6759f188ab7145199e7f3a0ed6ea8718": {
          "model_module": "@jupyter-widgets/base",
          "model_name": "LayoutModel",
          "model_module_version": "1.2.0",
          "state": {
            "_model_module": "@jupyter-widgets/base",
            "_model_module_version": "1.2.0",
            "_model_name": "LayoutModel",
            "_view_count": null,
            "_view_module": "@jupyter-widgets/base",
            "_view_module_version": "1.2.0",
            "_view_name": "LayoutView",
            "align_content": null,
            "align_items": null,
            "align_self": null,
            "border": null,
            "bottom": null,
            "display": null,
            "flex": null,
            "flex_flow": null,
            "grid_area": null,
            "grid_auto_columns": null,
            "grid_auto_flow": null,
            "grid_auto_rows": null,
            "grid_column": null,
            "grid_gap": null,
            "grid_row": null,
            "grid_template_areas": null,
            "grid_template_columns": null,
            "grid_template_rows": null,
            "height": null,
            "justify_content": null,
            "justify_items": null,
            "left": null,
            "margin": null,
            "max_height": null,
            "max_width": null,
            "min_height": null,
            "min_width": null,
            "object_fit": null,
            "object_position": null,
            "order": null,
            "overflow": null,
            "overflow_x": null,
            "overflow_y": null,
            "padding": null,
            "right": null,
            "top": null,
            "visibility": null,
            "width": null
          }
        },
        "ab0d6801d3964adba185a4c257b19c13": {
          "model_module": "@jupyter-widgets/controls",
          "model_name": "DescriptionStyleModel",
          "model_module_version": "1.5.0",
          "state": {
            "_model_module": "@jupyter-widgets/controls",
            "_model_module_version": "1.5.0",
            "_model_name": "DescriptionStyleModel",
            "_view_count": null,
            "_view_module": "@jupyter-widgets/base",
            "_view_module_version": "1.2.0",
            "_view_name": "StyleView",
            "description_width": ""
          }
        },
        "bdcf036538e24b8fb6044aa8b67e39a0": {
          "model_module": "@jupyter-widgets/controls",
          "model_name": "HBoxModel",
          "model_module_version": "1.5.0",
          "state": {
            "_dom_classes": [],
            "_model_module": "@jupyter-widgets/controls",
            "_model_module_version": "1.5.0",
            "_model_name": "HBoxModel",
            "_view_count": null,
            "_view_module": "@jupyter-widgets/controls",
            "_view_module_version": "1.5.0",
            "_view_name": "HBoxView",
            "box_style": "",
            "children": [
              "IPY_MODEL_33db457aabc0443aa7be14b06b6d85b7",
              "IPY_MODEL_76999dfd616a42bcb90078f088af637b",
              "IPY_MODEL_68d812484e444d2c94eedc54b6696234"
            ],
            "layout": "IPY_MODEL_145a49499aa248bb8ac259b68d6c85b0"
          }
        },
        "33db457aabc0443aa7be14b06b6d85b7": {
          "model_module": "@jupyter-widgets/controls",
          "model_name": "HTMLModel",
          "model_module_version": "1.5.0",
          "state": {
            "_dom_classes": [],
            "_model_module": "@jupyter-widgets/controls",
            "_model_module_version": "1.5.0",
            "_model_name": "HTMLModel",
            "_view_count": null,
            "_view_module": "@jupyter-widgets/controls",
            "_view_module_version": "1.5.0",
            "_view_name": "HTMLView",
            "description": "",
            "description_tooltip": null,
            "layout": "IPY_MODEL_76d4928a323746369fa038535c14d15f",
            "placeholder": "​",
            "style": "IPY_MODEL_c2a4df39181840a59a6a3ba73c7cf263",
            "value": "Generating train split: 100%"
          }
        },
        "76999dfd616a42bcb90078f088af637b": {
          "model_module": "@jupyter-widgets/controls",
          "model_name": "FloatProgressModel",
          "model_module_version": "1.5.0",
          "state": {
            "_dom_classes": [],
            "_model_module": "@jupyter-widgets/controls",
            "_model_module_version": "1.5.0",
            "_model_name": "FloatProgressModel",
            "_view_count": null,
            "_view_module": "@jupyter-widgets/controls",
            "_view_module_version": "1.5.0",
            "_view_name": "ProgressView",
            "bar_style": "success",
            "description": "",
            "description_tooltip": null,
            "layout": "IPY_MODEL_941f9dc1807a4565bca21481e567facd",
            "max": 60000,
            "min": 0,
            "orientation": "horizontal",
            "style": "IPY_MODEL_24b0e20862324cbd96af83d9bd53cf9d",
            "value": 60000
          }
        },
        "68d812484e444d2c94eedc54b6696234": {
          "model_module": "@jupyter-widgets/controls",
          "model_name": "HTMLModel",
          "model_module_version": "1.5.0",
          "state": {
            "_dom_classes": [],
            "_model_module": "@jupyter-widgets/controls",
            "_model_module_version": "1.5.0",
            "_model_name": "HTMLModel",
            "_view_count": null,
            "_view_module": "@jupyter-widgets/controls",
            "_view_module_version": "1.5.0",
            "_view_name": "HTMLView",
            "description": "",
            "description_tooltip": null,
            "layout": "IPY_MODEL_ac197a334f4b48f39eaff2bd350b9b9c",
            "placeholder": "​",
            "style": "IPY_MODEL_9585edcbf1124e2faa94829089513da6",
            "value": " 60000/60000 [00:01&lt;00:00, 55065.17 examples/s]"
          }
        },
        "145a49499aa248bb8ac259b68d6c85b0": {
          "model_module": "@jupyter-widgets/base",
          "model_name": "LayoutModel",
          "model_module_version": "1.2.0",
          "state": {
            "_model_module": "@jupyter-widgets/base",
            "_model_module_version": "1.2.0",
            "_model_name": "LayoutModel",
            "_view_count": null,
            "_view_module": "@jupyter-widgets/base",
            "_view_module_version": "1.2.0",
            "_view_name": "LayoutView",
            "align_content": null,
            "align_items": null,
            "align_self": null,
            "border": null,
            "bottom": null,
            "display": null,
            "flex": null,
            "flex_flow": null,
            "grid_area": null,
            "grid_auto_columns": null,
            "grid_auto_flow": null,
            "grid_auto_rows": null,
            "grid_column": null,
            "grid_gap": null,
            "grid_row": null,
            "grid_template_areas": null,
            "grid_template_columns": null,
            "grid_template_rows": null,
            "height": null,
            "justify_content": null,
            "justify_items": null,
            "left": null,
            "margin": null,
            "max_height": null,
            "max_width": null,
            "min_height": null,
            "min_width": null,
            "object_fit": null,
            "object_position": null,
            "order": null,
            "overflow": null,
            "overflow_x": null,
            "overflow_y": null,
            "padding": null,
            "right": null,
            "top": null,
            "visibility": null,
            "width": null
          }
        },
        "76d4928a323746369fa038535c14d15f": {
          "model_module": "@jupyter-widgets/base",
          "model_name": "LayoutModel",
          "model_module_version": "1.2.0",
          "state": {
            "_model_module": "@jupyter-widgets/base",
            "_model_module_version": "1.2.0",
            "_model_name": "LayoutModel",
            "_view_count": null,
            "_view_module": "@jupyter-widgets/base",
            "_view_module_version": "1.2.0",
            "_view_name": "LayoutView",
            "align_content": null,
            "align_items": null,
            "align_self": null,
            "border": null,
            "bottom": null,
            "display": null,
            "flex": null,
            "flex_flow": null,
            "grid_area": null,
            "grid_auto_columns": null,
            "grid_auto_flow": null,
            "grid_auto_rows": null,
            "grid_column": null,
            "grid_gap": null,
            "grid_row": null,
            "grid_template_areas": null,
            "grid_template_columns": null,
            "grid_template_rows": null,
            "height": null,
            "justify_content": null,
            "justify_items": null,
            "left": null,
            "margin": null,
            "max_height": null,
            "max_width": null,
            "min_height": null,
            "min_width": null,
            "object_fit": null,
            "object_position": null,
            "order": null,
            "overflow": null,
            "overflow_x": null,
            "overflow_y": null,
            "padding": null,
            "right": null,
            "top": null,
            "visibility": null,
            "width": null
          }
        },
        "c2a4df39181840a59a6a3ba73c7cf263": {
          "model_module": "@jupyter-widgets/controls",
          "model_name": "DescriptionStyleModel",
          "model_module_version": "1.5.0",
          "state": {
            "_model_module": "@jupyter-widgets/controls",
            "_model_module_version": "1.5.0",
            "_model_name": "DescriptionStyleModel",
            "_view_count": null,
            "_view_module": "@jupyter-widgets/base",
            "_view_module_version": "1.2.0",
            "_view_name": "StyleView",
            "description_width": ""
          }
        },
        "941f9dc1807a4565bca21481e567facd": {
          "model_module": "@jupyter-widgets/base",
          "model_name": "LayoutModel",
          "model_module_version": "1.2.0",
          "state": {
            "_model_module": "@jupyter-widgets/base",
            "_model_module_version": "1.2.0",
            "_model_name": "LayoutModel",
            "_view_count": null,
            "_view_module": "@jupyter-widgets/base",
            "_view_module_version": "1.2.0",
            "_view_name": "LayoutView",
            "align_content": null,
            "align_items": null,
            "align_self": null,
            "border": null,
            "bottom": null,
            "display": null,
            "flex": null,
            "flex_flow": null,
            "grid_area": null,
            "grid_auto_columns": null,
            "grid_auto_flow": null,
            "grid_auto_rows": null,
            "grid_column": null,
            "grid_gap": null,
            "grid_row": null,
            "grid_template_areas": null,
            "grid_template_columns": null,
            "grid_template_rows": null,
            "height": null,
            "justify_content": null,
            "justify_items": null,
            "left": null,
            "margin": null,
            "max_height": null,
            "max_width": null,
            "min_height": null,
            "min_width": null,
            "object_fit": null,
            "object_position": null,
            "order": null,
            "overflow": null,
            "overflow_x": null,
            "overflow_y": null,
            "padding": null,
            "right": null,
            "top": null,
            "visibility": null,
            "width": null
          }
        },
        "24b0e20862324cbd96af83d9bd53cf9d": {
          "model_module": "@jupyter-widgets/controls",
          "model_name": "ProgressStyleModel",
          "model_module_version": "1.5.0",
          "state": {
            "_model_module": "@jupyter-widgets/controls",
            "_model_module_version": "1.5.0",
            "_model_name": "ProgressStyleModel",
            "_view_count": null,
            "_view_module": "@jupyter-widgets/base",
            "_view_module_version": "1.2.0",
            "_view_name": "StyleView",
            "bar_color": null,
            "description_width": ""
          }
        },
        "ac197a334f4b48f39eaff2bd350b9b9c": {
          "model_module": "@jupyter-widgets/base",
          "model_name": "LayoutModel",
          "model_module_version": "1.2.0",
          "state": {
            "_model_module": "@jupyter-widgets/base",
            "_model_module_version": "1.2.0",
            "_model_name": "LayoutModel",
            "_view_count": null,
            "_view_module": "@jupyter-widgets/base",
            "_view_module_version": "1.2.0",
            "_view_name": "LayoutView",
            "align_content": null,
            "align_items": null,
            "align_self": null,
            "border": null,
            "bottom": null,
            "display": null,
            "flex": null,
            "flex_flow": null,
            "grid_area": null,
            "grid_auto_columns": null,
            "grid_auto_flow": null,
            "grid_auto_rows": null,
            "grid_column": null,
            "grid_gap": null,
            "grid_row": null,
            "grid_template_areas": null,
            "grid_template_columns": null,
            "grid_template_rows": null,
            "height": null,
            "justify_content": null,
            "justify_items": null,
            "left": null,
            "margin": null,
            "max_height": null,
            "max_width": null,
            "min_height": null,
            "min_width": null,
            "object_fit": null,
            "object_position": null,
            "order": null,
            "overflow": null,
            "overflow_x": null,
            "overflow_y": null,
            "padding": null,
            "right": null,
            "top": null,
            "visibility": null,
            "width": null
          }
        },
        "9585edcbf1124e2faa94829089513da6": {
          "model_module": "@jupyter-widgets/controls",
          "model_name": "DescriptionStyleModel",
          "model_module_version": "1.5.0",
          "state": {
            "_model_module": "@jupyter-widgets/controls",
            "_model_module_version": "1.5.0",
            "_model_name": "DescriptionStyleModel",
            "_view_count": null,
            "_view_module": "@jupyter-widgets/base",
            "_view_module_version": "1.2.0",
            "_view_name": "StyleView",
            "description_width": ""
          }
        },
        "719265761a744ceebffcab2a3b78047f": {
          "model_module": "@jupyter-widgets/controls",
          "model_name": "HBoxModel",
          "model_module_version": "1.5.0",
          "state": {
            "_dom_classes": [],
            "_model_module": "@jupyter-widgets/controls",
            "_model_module_version": "1.5.0",
            "_model_name": "HBoxModel",
            "_view_count": null,
            "_view_module": "@jupyter-widgets/controls",
            "_view_module_version": "1.5.0",
            "_view_name": "HBoxView",
            "box_style": "",
            "children": [
              "IPY_MODEL_f75906e4f2e9483b89175ac63c8a62e4",
              "IPY_MODEL_3de74375ef62475a91db043fc5cea3a0",
              "IPY_MODEL_e891ee396c1f4d6486a7f5127ea953b3"
            ],
            "layout": "IPY_MODEL_055d7d3b7612429aa52ec020b5147adc"
          }
        },
        "f75906e4f2e9483b89175ac63c8a62e4": {
          "model_module": "@jupyter-widgets/controls",
          "model_name": "HTMLModel",
          "model_module_version": "1.5.0",
          "state": {
            "_dom_classes": [],
            "_model_module": "@jupyter-widgets/controls",
            "_model_module_version": "1.5.0",
            "_model_name": "HTMLModel",
            "_view_count": null,
            "_view_module": "@jupyter-widgets/controls",
            "_view_module_version": "1.5.0",
            "_view_name": "HTMLView",
            "description": "",
            "description_tooltip": null,
            "layout": "IPY_MODEL_d71424517c92459bb4abb42737879cef",
            "placeholder": "​",
            "style": "IPY_MODEL_74e23d162c4745ba93088c932cc95112",
            "value": "Generating test split: 100%"
          }
        },
        "3de74375ef62475a91db043fc5cea3a0": {
          "model_module": "@jupyter-widgets/controls",
          "model_name": "FloatProgressModel",
          "model_module_version": "1.5.0",
          "state": {
            "_dom_classes": [],
            "_model_module": "@jupyter-widgets/controls",
            "_model_module_version": "1.5.0",
            "_model_name": "FloatProgressModel",
            "_view_count": null,
            "_view_module": "@jupyter-widgets/controls",
            "_view_module_version": "1.5.0",
            "_view_name": "ProgressView",
            "bar_style": "success",
            "description": "",
            "description_tooltip": null,
            "layout": "IPY_MODEL_722be2fba6d74e438b286bc7ba1aef76",
            "max": 10000,
            "min": 0,
            "orientation": "horizontal",
            "style": "IPY_MODEL_83c8001f8bb24ff58c7b150a1059147d",
            "value": 10000
          }
        },
        "e891ee396c1f4d6486a7f5127ea953b3": {
          "model_module": "@jupyter-widgets/controls",
          "model_name": "HTMLModel",
          "model_module_version": "1.5.0",
          "state": {
            "_dom_classes": [],
            "_model_module": "@jupyter-widgets/controls",
            "_model_module_version": "1.5.0",
            "_model_name": "HTMLModel",
            "_view_count": null,
            "_view_module": "@jupyter-widgets/controls",
            "_view_module_version": "1.5.0",
            "_view_name": "HTMLView",
            "description": "",
            "description_tooltip": null,
            "layout": "IPY_MODEL_e6b0cbac45784d74b680206a46f3997a",
            "placeholder": "​",
            "style": "IPY_MODEL_d36922e5a8934291b400b343cddea89a",
            "value": " 10000/10000 [00:00&lt;00:00, 63746.77 examples/s]"
          }
        },
        "055d7d3b7612429aa52ec020b5147adc": {
          "model_module": "@jupyter-widgets/base",
          "model_name": "LayoutModel",
          "model_module_version": "1.2.0",
          "state": {
            "_model_module": "@jupyter-widgets/base",
            "_model_module_version": "1.2.0",
            "_model_name": "LayoutModel",
            "_view_count": null,
            "_view_module": "@jupyter-widgets/base",
            "_view_module_version": "1.2.0",
            "_view_name": "LayoutView",
            "align_content": null,
            "align_items": null,
            "align_self": null,
            "border": null,
            "bottom": null,
            "display": null,
            "flex": null,
            "flex_flow": null,
            "grid_area": null,
            "grid_auto_columns": null,
            "grid_auto_flow": null,
            "grid_auto_rows": null,
            "grid_column": null,
            "grid_gap": null,
            "grid_row": null,
            "grid_template_areas": null,
            "grid_template_columns": null,
            "grid_template_rows": null,
            "height": null,
            "justify_content": null,
            "justify_items": null,
            "left": null,
            "margin": null,
            "max_height": null,
            "max_width": null,
            "min_height": null,
            "min_width": null,
            "object_fit": null,
            "object_position": null,
            "order": null,
            "overflow": null,
            "overflow_x": null,
            "overflow_y": null,
            "padding": null,
            "right": null,
            "top": null,
            "visibility": null,
            "width": null
          }
        },
        "d71424517c92459bb4abb42737879cef": {
          "model_module": "@jupyter-widgets/base",
          "model_name": "LayoutModel",
          "model_module_version": "1.2.0",
          "state": {
            "_model_module": "@jupyter-widgets/base",
            "_model_module_version": "1.2.0",
            "_model_name": "LayoutModel",
            "_view_count": null,
            "_view_module": "@jupyter-widgets/base",
            "_view_module_version": "1.2.0",
            "_view_name": "LayoutView",
            "align_content": null,
            "align_items": null,
            "align_self": null,
            "border": null,
            "bottom": null,
            "display": null,
            "flex": null,
            "flex_flow": null,
            "grid_area": null,
            "grid_auto_columns": null,
            "grid_auto_flow": null,
            "grid_auto_rows": null,
            "grid_column": null,
            "grid_gap": null,
            "grid_row": null,
            "grid_template_areas": null,
            "grid_template_columns": null,
            "grid_template_rows": null,
            "height": null,
            "justify_content": null,
            "justify_items": null,
            "left": null,
            "margin": null,
            "max_height": null,
            "max_width": null,
            "min_height": null,
            "min_width": null,
            "object_fit": null,
            "object_position": null,
            "order": null,
            "overflow": null,
            "overflow_x": null,
            "overflow_y": null,
            "padding": null,
            "right": null,
            "top": null,
            "visibility": null,
            "width": null
          }
        },
        "74e23d162c4745ba93088c932cc95112": {
          "model_module": "@jupyter-widgets/controls",
          "model_name": "DescriptionStyleModel",
          "model_module_version": "1.5.0",
          "state": {
            "_model_module": "@jupyter-widgets/controls",
            "_model_module_version": "1.5.0",
            "_model_name": "DescriptionStyleModel",
            "_view_count": null,
            "_view_module": "@jupyter-widgets/base",
            "_view_module_version": "1.2.0",
            "_view_name": "StyleView",
            "description_width": ""
          }
        },
        "722be2fba6d74e438b286bc7ba1aef76": {
          "model_module": "@jupyter-widgets/base",
          "model_name": "LayoutModel",
          "model_module_version": "1.2.0",
          "state": {
            "_model_module": "@jupyter-widgets/base",
            "_model_module_version": "1.2.0",
            "_model_name": "LayoutModel",
            "_view_count": null,
            "_view_module": "@jupyter-widgets/base",
            "_view_module_version": "1.2.0",
            "_view_name": "LayoutView",
            "align_content": null,
            "align_items": null,
            "align_self": null,
            "border": null,
            "bottom": null,
            "display": null,
            "flex": null,
            "flex_flow": null,
            "grid_area": null,
            "grid_auto_columns": null,
            "grid_auto_flow": null,
            "grid_auto_rows": null,
            "grid_column": null,
            "grid_gap": null,
            "grid_row": null,
            "grid_template_areas": null,
            "grid_template_columns": null,
            "grid_template_rows": null,
            "height": null,
            "justify_content": null,
            "justify_items": null,
            "left": null,
            "margin": null,
            "max_height": null,
            "max_width": null,
            "min_height": null,
            "min_width": null,
            "object_fit": null,
            "object_position": null,
            "order": null,
            "overflow": null,
            "overflow_x": null,
            "overflow_y": null,
            "padding": null,
            "right": null,
            "top": null,
            "visibility": null,
            "width": null
          }
        },
        "83c8001f8bb24ff58c7b150a1059147d": {
          "model_module": "@jupyter-widgets/controls",
          "model_name": "ProgressStyleModel",
          "model_module_version": "1.5.0",
          "state": {
            "_model_module": "@jupyter-widgets/controls",
            "_model_module_version": "1.5.0",
            "_model_name": "ProgressStyleModel",
            "_view_count": null,
            "_view_module": "@jupyter-widgets/base",
            "_view_module_version": "1.2.0",
            "_view_name": "StyleView",
            "bar_color": null,
            "description_width": ""
          }
        },
        "e6b0cbac45784d74b680206a46f3997a": {
          "model_module": "@jupyter-widgets/base",
          "model_name": "LayoutModel",
          "model_module_version": "1.2.0",
          "state": {
            "_model_module": "@jupyter-widgets/base",
            "_model_module_version": "1.2.0",
            "_model_name": "LayoutModel",
            "_view_count": null,
            "_view_module": "@jupyter-widgets/base",
            "_view_module_version": "1.2.0",
            "_view_name": "LayoutView",
            "align_content": null,
            "align_items": null,
            "align_self": null,
            "border": null,
            "bottom": null,
            "display": null,
            "flex": null,
            "flex_flow": null,
            "grid_area": null,
            "grid_auto_columns": null,
            "grid_auto_flow": null,
            "grid_auto_rows": null,
            "grid_column": null,
            "grid_gap": null,
            "grid_row": null,
            "grid_template_areas": null,
            "grid_template_columns": null,
            "grid_template_rows": null,
            "height": null,
            "justify_content": null,
            "justify_items": null,
            "left": null,
            "margin": null,
            "max_height": null,
            "max_width": null,
            "min_height": null,
            "min_width": null,
            "object_fit": null,
            "object_position": null,
            "order": null,
            "overflow": null,
            "overflow_x": null,
            "overflow_y": null,
            "padding": null,
            "right": null,
            "top": null,
            "visibility": null,
            "width": null
          }
        },
        "d36922e5a8934291b400b343cddea89a": {
          "model_module": "@jupyter-widgets/controls",
          "model_name": "DescriptionStyleModel",
          "model_module_version": "1.5.0",
          "state": {
            "_model_module": "@jupyter-widgets/controls",
            "_model_module_version": "1.5.0",
            "_model_name": "DescriptionStyleModel",
            "_view_count": null,
            "_view_module": "@jupyter-widgets/base",
            "_view_module_version": "1.2.0",
            "_view_name": "StyleView",
            "description_width": ""
          }
        }
      }
    }
  },
  "cells": [
    {
      "cell_type": "markdown",
      "metadata": {
        "id": "view-in-github",
        "colab_type": "text"
      },
      "source": [
        "<a href=\"https://colab.research.google.com/github/Mafaz03/Autoencoder/blob/main/Learner_self.ipynb\" target=\"_parent\"><img src=\"https://colab.research.google.com/assets/colab-badge.svg\" alt=\"Open In Colab\"/></a>"
      ]
    },
    {
      "cell_type": "code",
      "source": [
        "import warnings\n",
        "\n",
        "# Suppress all warnings\n",
        "warnings.filterwarnings(\"ignore\")\n"
      ],
      "metadata": {
        "id": "CIK3uSFEbncT"
      },
      "execution_count": 1,
      "outputs": []
    },
    {
      "cell_type": "code",
      "source": [
        "!pip install -q torcheval"
      ],
      "metadata": {
        "colab": {
          "base_uri": "https://localhost:8080/"
        },
        "id": "6DCy6bdPNX95",
        "outputId": "2151b682-f76f-418f-e98d-fbebf13a84f9"
      },
      "execution_count": 2,
      "outputs": [
        {
          "output_type": "stream",
          "name": "stdout",
          "text": [
            "\u001b[?25l     \u001b[90m━━━━━━━━━━━━━━━━━━━━━━━━━━━━━━━━━━━━━━━━\u001b[0m \u001b[32m0.0/179.2 kB\u001b[0m \u001b[31m?\u001b[0m eta \u001b[36m-:--:--\u001b[0m\r\u001b[2K     \u001b[91m━━━━━━━━━━━━━━━━━━━━━━━━━━━━━━━━━━━━━━\u001b[0m\u001b[91m╸\u001b[0m\u001b[90m━\u001b[0m \u001b[32m174.1/179.2 kB\u001b[0m \u001b[31m5.0 MB/s\u001b[0m eta \u001b[36m0:00:01\u001b[0m\r\u001b[2K     \u001b[90m━━━━━━━━━━━━━━━━━━━━━━━━━━━━━━━━━━━━━━━━\u001b[0m \u001b[32m179.2/179.2 kB\u001b[0m \u001b[31m3.4 MB/s\u001b[0m eta \u001b[36m0:00:00\u001b[0m\n",
            "\u001b[?25h"
          ]
        }
      ]
    },
    {
      "cell_type": "code",
      "source": [
        "import torch\n",
        "from torch import nn\n",
        "from torch.utils.data import default_collate\n",
        "from typing import Mapping\n",
        "import math,numpy as np,matplotlib.pyplot as plt\n",
        "from operator import itemgetter\n",
        "from itertools import zip_longest\n",
        "import fastcore.all as fc\n",
        "\n",
        "\n",
        "\n",
        "def conv(ni, nf, ks=3, stride=2, act=True):\n",
        "    res = nn.Conv2d(ni, nf, stride=stride, kernel_size=ks, padding=ks//2)\n",
        "    if act: res = nn.Sequential(res, nn.ReLU())\n",
        "    return res\n",
        "\n",
        "def_device = 'mps' if torch.backends.mps.is_available() else 'cuda' if torch.cuda.is_available() else 'cpu'\n",
        "\n",
        "def to_device(x, device=def_device):\n",
        "    if isinstance(x, torch.Tensor): return x.to(device)\n",
        "    if isinstance(x, Mapping): return {k:v.to(device) for k,v in x.items()}\n",
        "    return type(x)(to_device(o, device) for o in x)\n",
        "\n",
        "def collate_device(b): return to_device(default_collate(b))\n",
        "\n",
        "def inplace(f):\n",
        "    def _f(b):\n",
        "        f(b)\n",
        "        return b\n",
        "    return _f\n",
        "\n",
        "# %% ../nbs/05_datasets.ipynb 33\n",
        "def collate_dict(ds):\n",
        "    get = itemgetter(*ds.features)\n",
        "    def _f(b): return get(default_collate(b))\n",
        "    return _f\n",
        "\n",
        "# %% ../nbs/05_datasets.ipynb 37\n",
        "@fc.delegates(plt.Axes.imshow)\n",
        "def show_image(im, ax=None, figsize=None, title=None, noframe=True, **kwargs):\n",
        "    \"Show a PIL or PyTorch image on `ax`.\"\n",
        "    if fc.hasattrs(im, ('cpu','permute','detach')):\n",
        "        im = im.detach().cpu()\n",
        "        if len(im.shape)==3 and im.shape[0]<5: im=im.permute(1,2,0)\n",
        "    elif not isinstance(im,np.ndarray): im=np.array(im)\n",
        "    if im.shape[-1]==1: im=im[...,0]\n",
        "    if ax is None: _,ax = plt.subplots(figsize=figsize)\n",
        "    ax.imshow(im, **kwargs)\n",
        "    if title is not None: ax.set_title(title)\n",
        "    ax.set_xticks([])\n",
        "    ax.set_yticks([])\n",
        "    if noframe: ax.axis('off')\n",
        "    return ax\n",
        "\n",
        "# %% ../nbs/05_datasets.ipynb 41\n",
        "@fc.delegates(plt.subplots, keep=True)\n",
        "def subplots(\n",
        "    nrows:int=1, # Number of rows in returned axes grid\n",
        "    ncols:int=1, # Number of columns in returned axes grid\n",
        "    figsize:tuple=None, # Width, height in inches of the returned figure\n",
        "    imsize:int=3, # Size (in inches) of images that will be displayed in the returned figure\n",
        "    suptitle:str=None, # Title to be set to returned figure\n",
        "    **kwargs\n",
        "): # fig and axs\n",
        "    \"A figure and set of subplots to display images of `imsize` inches\"\n",
        "    if figsize is None: figsize=(ncols*imsize, nrows*imsize)\n",
        "    fig,ax = plt.subplots(nrows, ncols, figsize=figsize, **kwargs)\n",
        "    if suptitle is not None: fig.suptitle(suptitle)\n",
        "    if nrows*ncols==1: ax = np.array([ax])\n",
        "    return fig,ax\n",
        "\n",
        "# %% ../nbs/05_datasets.ipynb 45\n",
        "@fc.delegates(subplots)\n",
        "def get_grid(\n",
        "    n:int, # Number of axes\n",
        "    nrows:int=None, # Number of rows, defaulting to `int(math.sqrt(n))`\n",
        "    ncols:int=None, # Number of columns, defaulting to `ceil(n/rows)`\n",
        "    title:str=None, # If passed, title set to the figure\n",
        "    weight:str='bold', # Title font weight\n",
        "    size:int=14, # Title font size\n",
        "    **kwargs,\n",
        "): # fig and axs\n",
        "    \"Return a grid of `n` axes, `rows` by `cols`\"\n",
        "    if nrows: ncols = ncols or int(np.floor(n/nrows))\n",
        "    elif ncols: nrows = nrows or int(np.ceil(n/ncols))\n",
        "    else:\n",
        "        nrows = int(math.sqrt(n))\n",
        "        ncols = int(np.floor(n/nrows))\n",
        "    fig,axs = subplots(nrows, ncols, **kwargs)\n",
        "    for i in range(n, nrows*ncols): axs.flat[i].set_axis_off()\n",
        "    if title is not None: fig.suptitle(title, weight=weight, size=size)\n",
        "    return fig,axs\n",
        "\n",
        "# %% ../nbs/05_datasets.ipynb 47\n",
        "@fc.delegates(subplots)\n",
        "def show_images(ims:list, # Images to show\n",
        "                nrows:int|None=None, # Number of rows in grid\n",
        "                ncols:int|None=None, # Number of columns in grid (auto-calculated if None)\n",
        "                titles:list|None=None, # Optional list of titles for each image\n",
        "                **kwargs):\n",
        "    \"Show all images `ims` as subplots with `rows` using `titles`\"\n",
        "    axs = get_grid(len(ims), nrows, ncols, **kwargs)[1].flat\n",
        "    for im,t,ax in zip_longest(ims, titles or [], axs): show_image(im, ax=ax, title=t)\n",
        "\n",
        "# %% ../nbs/05_datasets.ipynb 51\n",
        "class DataLoaders:\n",
        "    def __init__(self, *dls): self.train,self.valid = dls[:2]\n",
        "\n",
        "    @classmethod\n",
        "    def from_dd(cls, dd, batch_size, as_tuple=True, **kwargs):\n",
        "        f = collate_dict(dd['train'])\n",
        "        return cls(*get_dls(*dd.values(), bs=batch_size, collate_fn=f, **kwargs))"
      ],
      "metadata": {
        "id": "vqlh7hOpEr01"
      },
      "execution_count": 3,
      "outputs": []
    },
    {
      "cell_type": "code",
      "source": [
        "def get_dls(train_ds, valid_ds, bs, **kwargs):\n",
        "    return (DataLoader(train_ds, batch_size=bs, shuffle=True, **kwargs),\n",
        "            DataLoader(valid_ds, batch_size=bs*2, **kwargs))"
      ],
      "metadata": {
        "id": "ilT1EDh5GTMB"
      },
      "execution_count": 4,
      "outputs": []
    },
    {
      "cell_type": "code",
      "source": [
        "!pip install -q datasets"
      ],
      "metadata": {
        "colab": {
          "base_uri": "https://localhost:8080/"
        },
        "id": "oEvmihhKFwZd",
        "outputId": "59d7e70b-6b61-45f0-bf30-9a4a8ca400b7"
      },
      "execution_count": 5,
      "outputs": [
        {
          "output_type": "stream",
          "name": "stdout",
          "text": [
            "\u001b[2K     \u001b[90m━━━━━━━━━━━━━━━━━━━━━━━━━━━━━━━━━━━━━━━━\u001b[0m \u001b[32m510.5/510.5 kB\u001b[0m \u001b[31m6.8 MB/s\u001b[0m eta \u001b[36m0:00:00\u001b[0m\n",
            "\u001b[2K     \u001b[90m━━━━━━━━━━━━━━━━━━━━━━━━━━━━━━━━━━━━━━━━\u001b[0m \u001b[32m116.3/116.3 kB\u001b[0m \u001b[31m11.3 MB/s\u001b[0m eta \u001b[36m0:00:00\u001b[0m\n",
            "\u001b[2K     \u001b[90m━━━━━━━━━━━━━━━━━━━━━━━━━━━━━━━━━━━━━━━━\u001b[0m \u001b[32m194.1/194.1 kB\u001b[0m \u001b[31m13.4 MB/s\u001b[0m eta \u001b[36m0:00:00\u001b[0m\n",
            "\u001b[2K     \u001b[90m━━━━━━━━━━━━━━━━━━━━━━━━━━━━━━━━━━━━━━━━\u001b[0m \u001b[32m134.8/134.8 kB\u001b[0m \u001b[31m10.4 MB/s\u001b[0m eta \u001b[36m0:00:00\u001b[0m\n",
            "\u001b[?25h"
          ]
        }
      ]
    },
    {
      "cell_type": "code",
      "execution_count": 6,
      "metadata": {
        "id": "7OLImTYpEgWl"
      },
      "outputs": [],
      "source": [
        "import math,torch,matplotlib.pyplot as plt\n",
        "import fastcore.all as fc\n",
        "from collections.abc import Mapping\n",
        "from operator import attrgetter\n",
        "from functools import partial\n",
        "from copy import copy\n",
        "\n",
        "from torch import optim\n",
        "import torch.nn.functional as F\n",
        "\n",
        "\n",
        "import matplotlib as mpl\n",
        "import torchvision.transforms.functional as TF\n",
        "from contextlib import contextmanager\n",
        "from torch import nn,tensor\n",
        "from datasets import load_dataset,load_dataset_builder\n",
        "import logging\n",
        "from fastcore.test import test_close"
      ]
    },
    {
      "cell_type": "code",
      "source": [
        "from torch.utils.data import DataLoader, SequentialSampler, RandomSampler, BatchSampler"
      ],
      "metadata": {
        "id": "PHrJCrSTGYPy"
      },
      "execution_count": 7,
      "outputs": []
    },
    {
      "cell_type": "code",
      "source": [
        "\n",
        "torch.set_printoptions(precision=2, linewidth=140, sci_mode=False)\n",
        "torch.manual_seed(1)\n",
        "mpl.rcParams['image.cmap'] = 'gray'"
      ],
      "metadata": {
        "id": "BVtsQt2YFzna"
      },
      "execution_count": 8,
      "outputs": []
    },
    {
      "cell_type": "code",
      "source": [
        "logging.disable(logging.WARNING)"
      ],
      "metadata": {
        "id": "ofH6w_SwF07p"
      },
      "execution_count": 9,
      "outputs": []
    },
    {
      "cell_type": "code",
      "source": [
        "x,y = 'image','label'\n",
        "name = \"fashion_mnist\"\n",
        "dsd = load_dataset(name)"
      ],
      "metadata": {
        "colab": {
          "base_uri": "https://localhost:8080/",
          "height": 145,
          "referenced_widgets": [
            "c2c896f648da482988bb4bfb28473c74",
            "46b5af4aa3da4b57a327195a22571634",
            "aca13abeb3024e9e9d224396fab90ed6",
            "606646912c9a499da7705820653588b2",
            "14010ed06cd34103bce94d7351db230d",
            "be8aecf4b85f46e5ad7f96e2d7b37ce6",
            "c02cb410e9254524bf8dc83c8252fa9a",
            "bc73f680eb6849388ffd0d23170a3feb",
            "8fa3f07dea154531b100859846db3c32",
            "22fa854c056f4612bcd923834e9b9cc1",
            "eab87753f3a54607be2d08a29933b228",
            "ace63fe673df44ef854fd3c64978409f",
            "0943af6174194cabb90d04cb7e574901",
            "c31a0d64c3f14a53a54bb05304500bcb",
            "afa4918856044ef99f94766aa4cd67e5",
            "b0fe6e70ea014cb38ece57dcf11d23f2",
            "cbfa839ae6624366a8748f869a8ac0c4",
            "04077695110846bd9654afcd25b514f7",
            "778fbb4f75384a50af39406738aad4b9",
            "1259225808064fc78fe7d244adf5051f",
            "6759f188ab7145199e7f3a0ed6ea8718",
            "ab0d6801d3964adba185a4c257b19c13",
            "bdcf036538e24b8fb6044aa8b67e39a0",
            "33db457aabc0443aa7be14b06b6d85b7",
            "76999dfd616a42bcb90078f088af637b",
            "68d812484e444d2c94eedc54b6696234",
            "145a49499aa248bb8ac259b68d6c85b0",
            "76d4928a323746369fa038535c14d15f",
            "c2a4df39181840a59a6a3ba73c7cf263",
            "941f9dc1807a4565bca21481e567facd",
            "24b0e20862324cbd96af83d9bd53cf9d",
            "ac197a334f4b48f39eaff2bd350b9b9c",
            "9585edcbf1124e2faa94829089513da6",
            "719265761a744ceebffcab2a3b78047f",
            "f75906e4f2e9483b89175ac63c8a62e4",
            "3de74375ef62475a91db043fc5cea3a0",
            "e891ee396c1f4d6486a7f5127ea953b3",
            "055d7d3b7612429aa52ec020b5147adc",
            "d71424517c92459bb4abb42737879cef",
            "74e23d162c4745ba93088c932cc95112",
            "722be2fba6d74e438b286bc7ba1aef76",
            "83c8001f8bb24ff58c7b150a1059147d",
            "e6b0cbac45784d74b680206a46f3997a",
            "d36922e5a8934291b400b343cddea89a"
          ]
        },
        "id": "mcRrsYzjFae-",
        "outputId": "01d0a22c-cc60-45fa-b9d4-56a6a36c4267"
      },
      "execution_count": 10,
      "outputs": [
        {
          "output_type": "display_data",
          "data": {
            "text/plain": [
              "Downloading data:   0%|          | 0.00/30.9M [00:00<?, ?B/s]"
            ],
            "application/vnd.jupyter.widget-view+json": {
              "version_major": 2,
              "version_minor": 0,
              "model_id": "c2c896f648da482988bb4bfb28473c74"
            }
          },
          "metadata": {}
        },
        {
          "output_type": "display_data",
          "data": {
            "text/plain": [
              "Downloading data:   0%|          | 0.00/5.18M [00:00<?, ?B/s]"
            ],
            "application/vnd.jupyter.widget-view+json": {
              "version_major": 2,
              "version_minor": 0,
              "model_id": "ace63fe673df44ef854fd3c64978409f"
            }
          },
          "metadata": {}
        },
        {
          "output_type": "display_data",
          "data": {
            "text/plain": [
              "Generating train split:   0%|          | 0/60000 [00:00<?, ? examples/s]"
            ],
            "application/vnd.jupyter.widget-view+json": {
              "version_major": 2,
              "version_minor": 0,
              "model_id": "bdcf036538e24b8fb6044aa8b67e39a0"
            }
          },
          "metadata": {}
        },
        {
          "output_type": "display_data",
          "data": {
            "text/plain": [
              "Generating test split:   0%|          | 0/10000 [00:00<?, ? examples/s]"
            ],
            "application/vnd.jupyter.widget-view+json": {
              "version_major": 2,
              "version_minor": 0,
              "model_id": "719265761a744ceebffcab2a3b78047f"
            }
          },
          "metadata": {}
        }
      ]
    },
    {
      "cell_type": "code",
      "source": [
        "dsd"
      ],
      "metadata": {
        "colab": {
          "base_uri": "https://localhost:8080/"
        },
        "id": "gnV72rVlFacp",
        "outputId": "ab1ffad3-9dac-4a26-ea79-c83939934039"
      },
      "execution_count": 11,
      "outputs": [
        {
          "output_type": "execute_result",
          "data": {
            "text/plain": [
              "DatasetDict({\n",
              "    train: Dataset({\n",
              "        features: ['image', 'label'],\n",
              "        num_rows: 60000\n",
              "    })\n",
              "    test: Dataset({\n",
              "        features: ['image', 'label'],\n",
              "        num_rows: 10000\n",
              "    })\n",
              "})"
            ]
          },
          "metadata": {},
          "execution_count": 11
        }
      ]
    },
    {
      "cell_type": "code",
      "source": [
        "@inplace\n",
        "def transformi(b): b[x] = [torch.flatten(TF.to_tensor(o)) for o in b[x]]"
      ],
      "metadata": {
        "id": "8SFWjA28FaaK"
      },
      "execution_count": 12,
      "outputs": []
    },
    {
      "cell_type": "code",
      "source": [
        "bs = 1024\n",
        "tds = dsd.with_transform(transformi)"
      ],
      "metadata": {
        "id": "NWf9AZWKF-1E"
      },
      "execution_count": 13,
      "outputs": []
    },
    {
      "cell_type": "code",
      "source": [
        "iter"
      ],
      "metadata": {
        "colab": {
          "base_uri": "https://localhost:8080/"
        },
        "id": "sDiuyZ41xZF4",
        "outputId": "990dedea-2e2a-445f-b86e-1bc375448f66"
      },
      "execution_count": 14,
      "outputs": [
        {
          "output_type": "execute_result",
          "data": {
            "text/plain": [
              "<function iter>"
            ]
          },
          "metadata": {},
          "execution_count": 14
        }
      ]
    },
    {
      "cell_type": "code",
      "source": [
        "dls = DataLoaders.from_dd(tds, bs, num_workers=4)\n",
        "dt = dls.train\n",
        "xb,yb = next(iter(dt))\n",
        "xb.shape,yb[:10]"
      ],
      "metadata": {
        "colab": {
          "base_uri": "https://localhost:8080/"
        },
        "id": "cW4RPNJjF-zD",
        "outputId": "0821ad1d-f976-4fbb-bc72-c28c11521fc7"
      },
      "execution_count": 15,
      "outputs": [
        {
          "output_type": "execute_result",
          "data": {
            "text/plain": [
              "(torch.Size([1024, 784]), tensor([5, 4, 9, 4, 3, 0, 6, 5, 7, 6]))"
            ]
          },
          "metadata": {},
          "execution_count": 15
        }
      ]
    },
    {
      "cell_type": "code",
      "source": [
        "plt.imshow(xb[21].reshape(-1,28,28).permute(1,2,0))"
      ],
      "metadata": {
        "colab": {
          "base_uri": "https://localhost:8080/",
          "height": 447
        },
        "id": "9-LDbqrwF-wz",
        "outputId": "cf7282ab-78cd-438e-d8e7-16f0ccd3c1dc"
      },
      "execution_count": 16,
      "outputs": [
        {
          "output_type": "execute_result",
          "data": {
            "text/plain": [
              "<matplotlib.image.AxesImage at 0x7fa70064c7c0>"
            ]
          },
          "metadata": {},
          "execution_count": 16
        },
        {
          "output_type": "display_data",
          "data": {
            "text/plain": [
              "<Figure size 640x480 with 1 Axes>"
            ],
            "image/png": "[encoded data removed]"
          },
          "metadata": {}
        }
      ]
    },
    {
      "cell_type": "code",
      "source": [
        "class Learner:\n",
        "    def __init__(self, model, dls, loss_func, lr, opt_func=optim.SGD): fc.store_attr()\n",
        "\n",
        "    def one_batch(self):\n",
        "        self.xb,self.yb = to_device(self.batch)\n",
        "        self.preds = self.model(self.xb)\n",
        "        self.loss = self.loss_func(self.preds, self.yb)\n",
        "        if self.model.training:\n",
        "            self.loss.backward()\n",
        "            self.opt.step()\n",
        "            self.opt.zero_grad()\n",
        "        with torch.no_grad(): self.calc_stats()\n",
        "\n",
        "    def calc_stats(self):\n",
        "        acc = (self.preds.argmax(dim=1)==self.yb).float().sum()\n",
        "        self.accs.append(acc)\n",
        "        n = len(self.xb)\n",
        "        self.losses.append(self.loss*n)\n",
        "        self.ns.append(n)\n",
        "\n",
        "    def one_epoch(self, train):\n",
        "        self.model.training = train\n",
        "        dl = self.dls.train if train else self.dls.valid\n",
        "        for self.num, self.batch in enumerate(dl):\n",
        "          self.one_batch()\n",
        "        n = sum(self.ns)\n",
        "        print(self.epoch, self.model.training, sum(self.losses).item()/n, sum(self.accs).item()/n)\n",
        "\n",
        "    def fit(self, n_epochs):\n",
        "        self.accs,self.losses,self.ns = [],[],[]\n",
        "        self.model.to(def_device)\n",
        "        self.opt = self.opt_func(self.model.parameters(), self.lr)\n",
        "        self.n_epochs = n_epochs\n",
        "        for self.epoch in range(n_epochs):\n",
        "            self.one_epoch(train = True)\n",
        "            with torch.no_grad(): self.one_epoch(False)"
      ],
      "metadata": {
        "id": "KZ6knCdxF-uH"
      },
      "execution_count": 17,
      "outputs": []
    },
    {
      "cell_type": "code",
      "source": [
        "m,nh = 28*28,50\n",
        "model = nn.Sequential(nn.Linear(m,nh), nn.ReLU(), nn.Linear(nh,10))"
      ],
      "metadata": {
        "id": "YMcKgteeF-ra"
      },
      "execution_count": 18,
      "outputs": []
    },
    {
      "cell_type": "code",
      "source": [
        "learn = Learner(model, dls, F.cross_entropy, lr=0.2)\n",
        "# learn.fit(5)"
      ],
      "metadata": {
        "id": "_APP1JMnFaVs"
      },
      "execution_count": 19,
      "outputs": []
    },
    {
      "cell_type": "code",
      "source": [
        "accs, losses, ns = [], [], []\n",
        "model.to(def_device)\n",
        "opt = optim.SGD(model.parameters(), 0.001)"
      ],
      "metadata": {
        "id": "dlhTPhexIGdC"
      },
      "execution_count": 20,
      "outputs": []
    },
    {
      "cell_type": "code",
      "source": [
        "epochs = 1\n",
        "accuracy = []\n",
        "losses = []\n",
        "\n",
        "for epoch in range(epochs):\n",
        "  model.training = True\n",
        "  dl = dls.train\n",
        "  for iterr, batch in enumerate(dl):\n",
        "    xb, yb = to_device(batch)\n",
        "    pred = model(xb)\n",
        "    loss = F.cross_entropy(pred, yb)\n",
        "    loss.backward()\n",
        "    opt.step()\n",
        "    opt.zero_grad()\n",
        "    acc = (pred.argmax(dim = 1) == yb).float().sum()\n",
        "\n",
        "    accuracy.append(float(acc))\n",
        "    losses.append(float(loss))\n",
        "  print(sum(accuracy)/batch[1].shape[0], sum(losses)/batch[1].shape[0])"
      ],
      "metadata": {
        "colab": {
          "base_uri": "https://localhost:8080/"
        },
        "id": "1p8NsKu8IWN2",
        "outputId": "cf71dddf-ea41-4094-9c7f-087891a24d61"
      },
      "execution_count": 21,
      "outputs": [
        {
          "output_type": "stream",
          "name": "stdout",
          "text": [
            "12.162828947368421 0.22370980915270353\n"
          ]
        }
      ]
    },
    {
      "cell_type": "code",
      "source": [
        "# plt.plot(accuracy)"
      ],
      "metadata": {
        "id": "2VchaSGTULea"
      },
      "execution_count": 22,
      "outputs": []
    },
    {
      "cell_type": "code",
      "source": [
        "# plt.plot(losses)"
      ],
      "metadata": {
        "id": "GY5yn4EUIGX6"
      },
      "execution_count": 23,
      "outputs": []
    },
    {
      "cell_type": "code",
      "source": [
        "class CancelFitException(Exception): pass\n",
        "class CancelBatchException(Exception): pass\n",
        "class CancelEpochException(Exception): pass"
      ],
      "metadata": {
        "id": "YJ1FU53mUQx4"
      },
      "execution_count": 24,
      "outputs": []
    },
    {
      "cell_type": "code",
      "source": [
        "class Callback(): order = 0"
      ],
      "metadata": {
        "id": "YW-J2iEIUQv3"
      },
      "execution_count": 25,
      "outputs": []
    },
    {
      "cell_type": "code",
      "source": [
        "def run_cbs(cbs, method_nm, iter_count = None, dothis=None):\n",
        "  for cb in sorted(cbs, key=attrgetter('order')):\n",
        "    method = getattr(cb, method_nm, None)\n",
        "    if iter_count is not None and method is not None:\n",
        "      method(dothis, iter_count)\n",
        "    if iter_count is None:\n",
        "      method(dothis)\n"
      ],
      "metadata": {
        "id": "cfKtQEcQUQtX"
      },
      "execution_count": 26,
      "outputs": []
    },
    {
      "cell_type": "code",
      "source": [
        "class CompletionCB(Callback):\n",
        "  def before_fit(self, dothis):\n",
        "    print(\"-> Hello from CompletionCB, doing before fit\")\n",
        "    self.count = 0\n",
        "  def after_batch(self, dothis):\n",
        "    print(\"-> Hello from CompletionCB, doing after batch\")\n",
        "    self.count += 1\n",
        "  def after_fit(self, learn):\n",
        "    print(f'Completed {self.count} batches')"
      ],
      "metadata": {
        "id": "930jp2OpWCS7"
      },
      "execution_count": 27,
      "outputs": []
    },
    {
      "cell_type": "code",
      "source": [
        "cbs = [CompletionCB()]\n",
        "run_cbs(cbs, 'before_fit')\n",
        "run_cbs(cbs, 'after_batch')\n",
        "run_cbs(cbs, 'after_fit')"
      ],
      "metadata": {
        "colab": {
          "base_uri": "https://localhost:8080/"
        },
        "id": "wf9-IXatUQq1",
        "outputId": "85ca1631-a710-4939-aa1d-1c66b9e3f478"
      },
      "execution_count": 28,
      "outputs": [
        {
          "output_type": "stream",
          "name": "stdout",
          "text": [
            "-> Hello from CompletionCB, doing before fit\n",
            "-> Hello from CompletionCB, doing after batch\n",
            "Completed 1 batches\n"
          ]
        }
      ]
    },
    {
      "cell_type": "code",
      "source": [
        "class Learner():\n",
        "    def __init__(self, model, dls, loss_func, lr, cbs, opt_func=optim.SGD):\n",
        "        fc.store_attr()\n",
        "\n",
        "    def one_batch(self):\n",
        "        self.preds = self.model(self.batch[0])\n",
        "        self.loss = self.loss_func(self.preds, self.batch[1])\n",
        "        if self.model.training:\n",
        "            self.loss.backward()\n",
        "            self.opt.step()\n",
        "            self.opt.zero_grad()\n",
        "\n",
        "    def one_epoch(self, train):\n",
        "        self.model.train(train)\n",
        "        self.dl = self.dls.train if train else self.dls.valid\n",
        "        try:\n",
        "            self.callback('before_epoch')\n",
        "            print(\"Guess i am doing before_epoch now :|\")\n",
        "            for self.iter, self.batch in enumerate(self.dl):\n",
        "                try:\n",
        "                    self.callback('before_batch')\n",
        "                    print(\"Guess i am doing before_batch now :|\")\n",
        "                    self.one_batch()\n",
        "                    self.callback('after_batch')\n",
        "                except CancelBatchException:\n",
        "                    print(\"CancelBatchException :((\")\n",
        "                    pass\n",
        "            self.callback('after_epoch', self.iter)  # Pass iter_count to after_epoch\n",
        "            print(\"Guess i am doing after_epoch now :|\")\n",
        "        except CancelEpochException:\n",
        "            print(\"CancelEpochException :((\")\n",
        "            pass\n",
        "\n",
        "    def fit(self, n_epochs):\n",
        "        self.n_epochs = n_epochs\n",
        "        self.epochs = range(n_epochs)\n",
        "        self.opt = self.opt_func(self.model.parameters(), self.lr)\n",
        "        try:\n",
        "            self.iter = 0\n",
        "            self.callback('before_fit', self.iter)  # Pass iter_count to before_fit\n",
        "            print(\"Guess i am doing before_fit now :|\")\n",
        "            for self.epoch in self.epochs:\n",
        "                self.one_epoch(True)\n",
        "                self.one_epoch(False)\n",
        "            self.callback('after_fit', self.iter)  # Pass iter_count to after_fit\n",
        "            print(\"Guess i am doing after_fit now :|\")\n",
        "        except CancelFitException:\n",
        "            print(\"CancelFitException :((\")\n",
        "            pass\n",
        "\n",
        "    def callback(self, method_nm, iter_count):\n",
        "        run_cbs(self.cbs, method_nm, dothis = self, iter_count = iter_count)\n",
        "\n"
      ],
      "metadata": {
        "id": "0QAeJBwrUQoR"
      },
      "execution_count": 29,
      "outputs": []
    },
    {
      "cell_type": "code",
      "source": [
        "m,nh = 28*28,50\n",
        "def get_model(): return nn.Sequential(nn.Linear(m,nh), nn.ReLU(), nn.Linear(nh,10))"
      ],
      "metadata": {
        "id": "u-6LYOmNUQlw"
      },
      "execution_count": 30,
      "outputs": []
    },
    {
      "cell_type": "code",
      "source": [
        "class SingleBatchCB(Callback):\n",
        "    order = 1\n",
        "    def after_batch(self, dothis): raise CancelFitException()\n"
      ],
      "metadata": {
        "id": "WhqKQmaAaTLL"
      },
      "execution_count": 31,
      "outputs": []
    },
    {
      "cell_type": "code",
      "source": [
        "class Metric:\n",
        "  def __init__(self): self.reset()\n",
        "  def reset(self): self.val, self.ns = [], []\n",
        "  def add(self, inp, targ=None, n=1):\n",
        "    self.last = inp\n",
        "    self.val.append(self.last)\n",
        "    self.ns.append(n)\n",
        "  @property\n",
        "  def value(self):\n",
        "    ns = tensor(self.ns)\n",
        "    return (tensor(self.val)*ns).sum()/ns.sum()\n",
        "  def calc(self, inps, targs):\n",
        "    return inps\n",
        "    print(\"Right now its doing nothing\")"
      ],
      "metadata": {
        "id": "yZK-RbJuUQgn"
      },
      "execution_count": 32,
      "outputs": []
    },
    {
      "cell_type": "code",
      "source": [
        "class Accuracy(Metric):\n",
        "  def calc(self, inps, targs):\n",
        "    return (inps == targs).float().mean()"
      ],
      "metadata": {
        "id": "7r6jUYf1UQdx"
      },
      "execution_count": 33,
      "outputs": []
    },
    {
      "cell_type": "code",
      "source": [
        "ac = Accuracy()\n",
        "ac.add(1,3)\n",
        "ac.add(32,3)"
      ],
      "metadata": {
        "id": "aB_Mn5ioUQay"
      },
      "execution_count": 34,
      "outputs": []
    },
    {
      "cell_type": "code",
      "source": [
        "ac.value"
      ],
      "metadata": {
        "colab": {
          "base_uri": "https://localhost:8080/"
        },
        "id": "tCGOJkQq6Bre",
        "outputId": "a1580761-c970-455a-c569-ccc954586e1d"
      },
      "execution_count": 35,
      "outputs": [
        {
          "output_type": "execute_result",
          "data": {
            "text/plain": [
              "tensor(16.50)"
            ]
          },
          "metadata": {},
          "execution_count": 35
        }
      ]
    },
    {
      "cell_type": "code",
      "source": [
        "from torcheval.metrics import MulticlassAccuracy,Mean"
      ],
      "metadata": {
        "id": "pyXZ7zlrN40v"
      },
      "execution_count": 36,
      "outputs": []
    },
    {
      "cell_type": "code",
      "source": [
        "def run_cbs(cbs, method_nm, iter_count = None, dothis=None):\n",
        "  for cb in sorted(cbs, key=attrgetter('order')):\n",
        "    method = getattr(cb, method_nm, None)\n",
        "    if iter_count is not None and method is not None:\n",
        "      method(dothis, iter_count)\n",
        "    if iter_count is None:\n",
        "      method(dothis)\n"
      ],
      "metadata": {
        "id": "fw0LiHmQVp5M"
      },
      "execution_count": 37,
      "outputs": []
    },
    {
      "cell_type": "code",
      "source": [
        "\n",
        "#|export\n",
        "class MetricsCB(Callback):\n",
        "    order = 0\n",
        "    def __init__(self, *ms, **metrics):\n",
        "        for o in ms: metrics[type(o).__name__] = o\n",
        "        self.metrics = metrics\n",
        "        self.all_metrics = copy(metrics)\n",
        "        self.all_metrics['loss'] = self.loss = Mean()\n",
        "\n",
        "    def _log(self, d): print(d)\n",
        "    def before_fit(self, learn, iter_count): learn.metrics = self\n",
        "    def before_epoch(self, learn, iter_count): [o.reset() for o in self.all_metrics.values()]\n",
        "\n",
        "    def after_epoch(self, learn, iter):\n",
        "        log = {k:f'{v.compute():.3f}' for k,v in self.all_metrics.items()}\n",
        "        log['epoch'] = learn.epoch\n",
        "        log['train'] = 'train' if learn.model.training else 'eval'\n",
        "        log['itteration'] = self.iter\n",
        "        self._log(log)\n",
        "\n",
        "    def after_batch(self, learn, iter_count):\n",
        "        x,y,*_ = to_cpu(learn.batch)\n",
        "        for m in self.metrics.values(): m.update(to_cpu(learn.preds), y)\n",
        "        self.loss.update(to_cpu(learn.loss), weight=len(x))"
      ],
      "metadata": {
        "id": "3ZrOL5N4NR5a"
      },
      "execution_count": 38,
      "outputs": []
    },
    {
      "cell_type": "code",
      "source": [
        "class DontExceed(Callback):\n",
        "\n",
        "  order = 1\n",
        "  def __init__(self, epoch): self.epoch = epoch\n",
        "  def before_fit(self, dothis, iter_count):\n",
        "    self.epoch_ = 0\n",
        "\n",
        "  def after_batch(self, dothis, iter_count):\n",
        "    self.epoch_ += 0\n",
        "    if self.epoch_ == self.epoch:\n",
        "      raise CancelFitException()\n"
      ],
      "metadata": {
        "id": "5nceEA3x_gnU"
      },
      "execution_count": 39,
      "outputs": []
    },
    {
      "cell_type": "code",
      "source": [
        "def to_cpu(x):\n",
        "  if isinstance(x, Mapping): return {k:to_cpu(v) for k,v in x.items()}\n",
        "  if isinstance(x, list): return [to_cpu(o) for o in x]\n",
        "  if isinstance(x, tuple): return tuple(to_cpu(list(x)))\n",
        "  res = x.detach().cpu()\n",
        "  return res.float() if res.dtype==torch.float16 else res"
      ],
      "metadata": {
        "id": "CYamrv3KOO_a"
      },
      "execution_count": 40,
      "outputs": []
    },
    {
      "cell_type": "code",
      "source": [
        "def run_cbs1(cbs, method_nm, iter_count = None, dothis=None):\n",
        "  for cb in sorted(cbs, key=attrgetter('order')):\n",
        "    method = getattr(cb, method_nm, None)\n",
        "    if method is not None:\n",
        "      if iter_count is not None:\n",
        "        method(dothis, iter_count)\n",
        "      else:\n",
        "        method(dothis)"
      ],
      "metadata": {
        "id": "2HQF2KfCV4iq"
      },
      "execution_count": 41,
      "outputs": []
    },
    {
      "cell_type": "code",
      "source": [
        "class Learner():\n",
        "    order = 0\n",
        "    def __init__(self, model, dls, loss_func, lr, cbs, opt_func=optim.SGD):\n",
        "        fc.store_attr()\n",
        "\n",
        "    def one_batch(self):\n",
        "        self.preds = self.model(self.batch[0])\n",
        "        self.loss = self.loss_func(self.preds, self.batch[1])\n",
        "        if self.model.training:\n",
        "            self.loss.backward()\n",
        "            self.opt.step()\n",
        "            self.opt.zero_grad()\n",
        "\n",
        "    def one_epoch(self, train):\n",
        "        self.model.train(train)\n",
        "        self.dl = self.dls.train if train else self.dls.valid\n",
        "        try:\n",
        "            self.final_iter = 1  # Initialize final_iter\n",
        "            self.callback('before_epoch', self.iter)\n",
        "            for self.iter, self.batch in enumerate(self.dl):\n",
        "                try:\n",
        "                    self.callback('before_batch', self.iter)\n",
        "                    self.one_batch()\n",
        "                    self.callback('after_batch', self.iter)\n",
        "                    self.final_iter = self.iter\n",
        "                except CancelBatchException:\n",
        "                    print(\"CancelBatchException :((\")\n",
        "\n",
        "            self.callback('after_epoch', self.final_iter)  # Pass final_iter to after_epoch\n",
        "        except CancelEpochException:\n",
        "            print(\"CancelEpochException :((\")\n",
        "            pass\n",
        "\n",
        "    def fit(self, n_epochs):\n",
        "        self.n_epochs = n_epochs\n",
        "        self.epochs = range(n_epochs)\n",
        "        self.opt = self.opt_func(self.model.parameters(), self.lr)\n",
        "        try:\n",
        "            self.iter = 0\n",
        "            self.callback('before_fit', self.iter)\n",
        "            for self.epoch in self.epochs:\n",
        "                self.one_epoch(True)\n",
        "                self.one_epoch(False)\n",
        "            self.callback('after_fit', self.iter)  # Pass iter_count to after_fit\n",
        "        except CancelFitException:\n",
        "            self.callback('Canceled', self.iter)\n",
        "            print(\"CancelFitException :((\")\n",
        "            pass\n",
        "\n",
        "    def callback(self, method_nm, iter_count):\n",
        "        run_cbs1(self.cbs, method_nm, iter_count=iter_count, dothis=self)\n"
      ],
      "metadata": {
        "id": "2Q4Oh0OAVkUI"
      },
      "execution_count": 42,
      "outputs": []
    },
    {
      "cell_type": "code",
      "source": [
        "\n",
        "#|export\n",
        "class MetricsCB(Callback):\n",
        "    order = 0\n",
        "    def __init__(self, *ms, **metrics):\n",
        "        for o in ms: metrics[type(o).__name__] = o\n",
        "        self.metrics = metrics\n",
        "        self.all_metrics = copy(metrics)\n",
        "        self.all_metrics['loss'] = self.loss = Mean()\n",
        "\n",
        "    def _log(self, d): print(d)\n",
        "    def before_fit(self, learn, iter_count):\n",
        "      learn.metrics = self\n",
        "    def before_epoch(self, learn, iter_count): [o.reset() for o in self.all_metrics.values()]\n",
        "\n",
        "    def after_epoch(self, learn, iter):\n",
        "        log = {k:f'{v.compute():.3f}' for k,v in self.all_metrics.items()}\n",
        "        log['epoch'] = learn.epoch\n",
        "        log['train'] = 'train' if learn.model.training else 'eval'\n",
        "        log['iteration'] = iter\n",
        "        self._log(log)\n",
        "\n",
        "    def after_batch(self, learn, iter_count):\n",
        "        x,y,*_ = to_cpu(learn.batch)\n",
        "        for m in self.metrics.values(): m.update(to_cpu(learn.preds), y)\n",
        "        self.loss.update(to_cpu(learn.loss), weight=len(x))"
      ],
      "metadata": {
        "id": "umiFYfLj8Cnq"
      },
      "execution_count": null,
      "outputs": []
    },
    {
      "cell_type": "code",
      "source": [],
      "metadata": {
        "id": "6ub26n-DVmES"
      },
      "execution_count": 117,
      "outputs": []
    },
    {
      "cell_type": "code",
      "source": [],
      "metadata": {
        "id": "rKVUlcqY78tQ"
      },
      "execution_count": null,
      "outputs": []
    },
    {
      "cell_type": "code",
      "source": [
        "class PrintLOL(Callback):\n",
        "  order = MetricsCB2.order + 1\n",
        "\n",
        "  def Canceled(self, thiswillalsowork, iter_count):\n",
        "    print(thiswillalsowork.batch[0].shape)\n",
        "    print(\"You are canceled :(\")\n",
        "  def before_epoch(self, thiswillalsowork, iter_count):\n",
        "    print(\"Epoch Started\")\n",
        "\n",
        "  # def before_batch(self, thiswillalsowork, iter_count):\n",
        "  #   print(\"Batch Started\")\n",
        "  # def after_batch(self, thiswillalsowork, iter_count):\n",
        "  #   print(\"Batch Completed\")\n",
        "  def after_epoch(self, thiswillalsowork, iter_count):\n",
        "    print(\"Epoch completed\")"
      ],
      "metadata": {
        "id": "1oR_MskqdvJQ"
      },
      "execution_count": 118,
      "outputs": []
    },
    {
      "cell_type": "code",
      "source": [
        "MetricsCB.order"
      ],
      "metadata": {
        "colab": {
          "base_uri": "https://localhost:8080/"
        },
        "id": "54kv8VT_e5bS",
        "outputId": "3fc03640-e197-4810-89ef-b3c1d4fa5752"
      },
      "execution_count": 45,
      "outputs": [
        {
          "output_type": "execute_result",
          "data": {
            "text/plain": [
              "0"
            ]
          },
          "metadata": {},
          "execution_count": 45
        }
      ]
    },
    {
      "cell_type": "code",
      "source": [
        "model = get_model()\n",
        "learn = Learner(model, dls, F.cross_entropy, lr=0.2, cbs=[PrintLOL(), MetricsCB(), DontExceed(0)])\n",
        "learn.fit(2)"
      ],
      "metadata": {
        "colab": {
          "base_uri": "https://localhost:8080/"
        },
        "id": "qrmry79T6dTI",
        "outputId": "74cbeeff-be7b-4f9b-fb1a-5446efdd0fad"
      },
      "execution_count": 46,
      "outputs": [
        {
          "output_type": "stream",
          "name": "stdout",
          "text": [
            "Epoch Started\n",
            "torch.Size([1024, 784])\n",
            "You are canceled :(\n",
            "CancelFitException :((\n"
          ]
        }
      ]
    },
    {
      "cell_type": "code",
      "source": [
        "def run_cbs2(cbs, method_nm, dothis=None):\n",
        "  for cb in sorted(cbs, key=attrgetter('order')):\n",
        "    method = getattr(cb, method_nm, None)\n",
        "    if method is not None:\n",
        "        method(dothis)"
      ],
      "metadata": {
        "id": "hZprax7QdWtH"
      },
      "execution_count": 110,
      "outputs": []
    },
    {
      "cell_type": "code",
      "source": [
        "class Learner():\n",
        "\n",
        "  def __init__(self, model, dls, loss_func, lr, cbs, opt_func=optim.SGD):\n",
        "      fc.store_attr()\n",
        "\n",
        "  @contextmanager\n",
        "  def cb_ctx(self, nm):\n",
        "    try:\n",
        "      self.callback(f'before_{nm}')\n",
        "      yield\n",
        "      self.callback(f'after_{nm}')\n",
        "    except globals()[f'Cancel{nm.title()}Exception']:\n",
        "      print(f'Cancel{nm.title()}Exception :((')\n",
        "\n",
        "  def one_batch(self):\n",
        "    self.preds = self.model(self.batch[0])\n",
        "    self.loss = self.loss_func(self.preds, self.batch[1])\n",
        "    if self.model.training:\n",
        "      self.loss.backward()\n",
        "      self.opt.step()\n",
        "      self.opt.zero_grad()\n",
        "\n",
        "  def one_epoch(self, train):\n",
        "    self.model.train(train)\n",
        "    self.dl = self.dls.train if train else self.dls.valid\n",
        "\n",
        "    with self.cb_ctx('epoch'):\n",
        "      for self.iter, self.batch in enumerate(self.dl):\n",
        "        with self.cb_ctx('batch'):\n",
        "          self.predict()\n",
        "          self.get_loss()\n",
        "          if self.training:\n",
        "            self.backward()\n",
        "            self.step()\n",
        "            self.zero_grad()\n",
        "\n",
        "  def fit(self, n_epochs):\n",
        "    # self.n_epochs()\n",
        "    # self.epochs = range(n_epochs)\n",
        "\n",
        "    self.n_epochs = n_epochs\n",
        "    self.epochs = range(n_epochs)\n",
        "    self.opt = self.opt_func(self.model.parameters())\n",
        "    self.iter = 0\n",
        "    with self.cb_ctx('fit'):\n",
        "      for self.epoch in self.epochs:\n",
        "        self.one_epoch(True)\n",
        "        self.one_epoch(False)\n",
        "\n",
        "\n",
        "  def __getattr__(self, name):\n",
        "    if name in ('predict','get_loss','backward','step','zero_grad', 'opt', 'iter'): return partial(self.callback, name)\n",
        "    raise AttributeError(name)\n",
        "\n",
        "  @property\n",
        "  def training(self): return self.model.training\n",
        "\n",
        "  def callback(self, method_nm):\n",
        "    run_cbs2(self.cbs, method_nm, dothis=self)\n",
        "\n"
      ],
      "metadata": {
        "id": "VzlaH5F3dWqc"
      },
      "execution_count": 114,
      "outputs": []
    },
    {
      "cell_type": "code",
      "source": [
        "class TrainCB(Callback):\n",
        "  def __init__(self, n_inp=1): self.n_inp = n_inp\n",
        "  def predict(self, learn): learn.preds = learn.model(*learn.batch[:self.n_inp])\n",
        "  def get_loss(self, learn): learn.loss = learn.loss_func(learn.preds, *learn.batch[self.n_inp:])\n",
        "  def backward(self, learn): learn.loss.backward()\n",
        "  def step(self, learn): learn.opt.step()\n",
        "  def zero_grad(self, learn): learn.opt.zero_grad()"
      ],
      "metadata": {
        "id": "id8Qr3zZ3dzs"
      },
      "execution_count": 112,
      "outputs": []
    },
    {
      "cell_type": "code",
      "source": [
        "\n",
        "#|export\n",
        "class MetricsCB2(Callback):\n",
        "    order = 0\n",
        "    def __init__(self, *ms, **metrics):\n",
        "        for o in ms: metrics[type(o).__name__] = o\n",
        "        self.metrics = metrics\n",
        "        self.all_metrics = copy(metrics)\n",
        "        self.all_metrics['loss'] = self.loss = Mean()\n",
        "\n",
        "    def _log(self, d): print(d)\n",
        "    def before_fit(self, learn):\n",
        "      learn.metrics = self\n",
        "    def before_epoch(self, learn): [o.reset() for o in self.all_metrics.values()]\n",
        "\n",
        "    def after_epoch(self, learn):\n",
        "        log = {k:f'{v.compute():.3f}' for k,v in self.all_metrics.items()}\n",
        "        log['epoch'] = learn.epoch\n",
        "        log['train'] = 'train' if learn.model.training else 'eval'\n",
        "        self._log(log)\n",
        "\n",
        "    def after_batch(self, learn):\n",
        "        x,y,*_ = to_cpu(learn.batch)\n",
        "        for m in self.metrics.values(): m.update(to_cpu(learn.preds), y)\n",
        "        self.loss.update(to_cpu(learn.loss), weight=len(x))"
      ],
      "metadata": {
        "id": "DxvQ7vLZ7xpp"
      },
      "execution_count": 121,
      "outputs": []
    },
    {
      "cell_type": "code",
      "source": [
        "model = get_model()\n",
        "metrics = MetricsCB2(accuracy=MulticlassAccuracy())\n",
        "cbs = [TrainCB(), metrics]\n",
        "learn = Learner(model, dls, F.cross_entropy, lr=0.2, cbs=cbs)\n",
        "learn.fit(2)\n",
        ""
      ],
      "metadata": {
        "colab": {
          "base_uri": "https://localhost:8080/"
        },
        "id": "ZsvhEevC3jU2",
        "outputId": "f7bb255b-d1bf-49b0-95ac-4a655e488d16"
      },
      "execution_count": 122,
      "outputs": [
        {
          "output_type": "stream",
          "name": "stdout",
          "text": [
            "{'accuracy': '0.158', 'loss': '2.276', 'epoch': 0, 'train': 'train'}\n",
            "{'accuracy': '0.179', 'loss': '2.264', 'epoch': 0, 'train': 'eval'}\n",
            "{'accuracy': '0.190', 'loss': '2.253', 'epoch': 1, 'train': 'train'}\n",
            "{'accuracy': '0.210', 'loss': '2.241', 'epoch': 1, 'train': 'eval'}\n"
          ]
        }
      ]
    },
    {
      "cell_type": "code",
      "source": [
        "class Learner():\n",
        "    def __init__(self, model, dls=(0,), loss_func=F.mse_loss, lr=0.1, cbs=None, opt_func=optim.SGD):\n",
        "        cbs = fc.L(cbs)\n",
        "        fc.store_attr()\n",
        "\n",
        "    @contextmanager\n",
        "    def cb_ctx(self, nm):\n",
        "        try:\n",
        "            self.callback(f'before_{nm}')\n",
        "            yield\n",
        "            self.callback(f'after_{nm}')\n",
        "        except globals()[f'Cancel{nm.title()}Exception']: pass\n",
        "        finally: self.callback(f'cleanup_{nm}')\n",
        "\n",
        "    def one_epoch(self, train):\n",
        "        self.model.train(train)\n",
        "        self.dl = self.dls.train if train else self.dls.valid\n",
        "        with self.cb_ctx('epoch'):\n",
        "            for self.iter,self.batch in enumerate(self.dl):\n",
        "                with self.cb_ctx('batch'):\n",
        "                    self.predict()\n",
        "                    self.get_loss()\n",
        "                    if self.training:\n",
        "                        self.backward()\n",
        "                        self.step()\n",
        "                        self.zero_grad()\n",
        "\n",
        "    def fit(self, n_epochs=1, train=True, valid=True, cbs=None, lr=None):\n",
        "        cbs = fc.L(cbs)\n",
        "        # `add_cb` and `rm_cb` were added in lesson 18\n",
        "        for cb in cbs: self.cbs.append(cb)\n",
        "        try:\n",
        "            self.n_epochs = n_epochs\n",
        "            self.epochs = range(n_epochs)\n",
        "            self.opt = self.opt_func(self.model.parameters(), self.lr if lr is None else lr)\n",
        "            with self.cb_ctx('fit'):\n",
        "                for self.epoch in self.epochs:\n",
        "                    if train: self.one_epoch(True)\n",
        "                    if valid: torch.no_grad()(self.one_epoch)(False)\n",
        "        finally:\n",
        "            for cb in cbs: self.cbs.remove(cb)\n",
        "\n",
        "    def __getattr__(self, name):\n",
        "        if name in ('predict','get_loss','backward','step','zero_grad'): return partial(self.callback, name)\n",
        "        raise AttributeError(name)\n",
        "\n",
        "    def callback(self, method_nm): run_cbs(self.cbs, method_nm, self)\n",
        "\n",
        "    @property\n",
        "    def training(self): return self.model.training"
      ],
      "metadata": {
        "id": "ojzD5geNdWnh"
      },
      "execution_count": 51,
      "outputs": []
    },
    {
      "cell_type": "code",
      "source": [],
      "metadata": {
        "id": "4XHS6nEjczHM"
      },
      "execution_count": 47,
      "outputs": []
    },
    {
      "cell_type": "code",
      "source": [],
      "metadata": {
        "id": "UBrgA5TdczEc"
      },
      "execution_count": 47,
      "outputs": []
    },
    {
      "cell_type": "code",
      "source": [],
      "metadata": {
        "id": "iKQxxeQ7czCD"
      },
      "execution_count": 47,
      "outputs": []
    },
    {
      "cell_type": "code",
      "source": [],
      "metadata": {
        "id": "5mq9MFmicy_m"
      },
      "execution_count": 47,
      "outputs": []
    },
    {
      "cell_type": "code",
      "source": [],
      "metadata": {
        "id": "1at9OEJWcy8s"
      },
      "execution_count": 47,
      "outputs": []
    },
    {
      "cell_type": "code",
      "source": [],
      "metadata": {
        "id": "-7fHiq6ecy5_"
      },
      "execution_count": 47,
      "outputs": []
    }
  ]
}